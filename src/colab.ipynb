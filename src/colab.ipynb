{
 "cells": [
  {
   "cell_type": "code",
   "execution_count": 1,
   "metadata": {},
   "outputs": [
    {
     "ename": "FileNotFoundError",
     "evalue": "[Errno 2] No such file or directory: 'wget'",
     "output_type": "error",
     "traceback": [
      "\u001b[0;31m---------------------------------------------------------------------------\u001b[0m",
      "\u001b[0;31mFileNotFoundError\u001b[0m                         Traceback (most recent call last)",
      "\u001b[1;32m/Users/youri/Desktop/APE/src/colab.ipynb Cell 1'\u001b[0m in \u001b[0;36m<cell line: 5>\u001b[0;34m()\u001b[0m\n\u001b[1;32m      <a href='vscode-notebook-cell:/Users/youri/Desktop/APE/src/colab.ipynb#ch0000000?line=1'>2</a>\u001b[0m \u001b[39mfrom\u001b[39;00m \u001b[39mcolabcode\u001b[39;00m \u001b[39mimport\u001b[39;00m ColabCode\n\u001b[1;32m      <a href='vscode-notebook-cell:/Users/youri/Desktop/APE/src/colab.ipynb#ch0000000?line=3'>4</a>\u001b[0m \u001b[39m# run colabcode with by deafult options.\u001b[39;00m\n\u001b[0;32m----> <a href='vscode-notebook-cell:/Users/youri/Desktop/APE/src/colab.ipynb#ch0000000?line=4'>5</a>\u001b[0m ColabCode()\n\u001b[1;32m      <a href='vscode-notebook-cell:/Users/youri/Desktop/APE/src/colab.ipynb#ch0000000?line=6'>7</a>\u001b[0m \u001b[39m# ColabCode has the following arguments:\u001b[39;00m\n\u001b[1;32m      <a href='vscode-notebook-cell:/Users/youri/Desktop/APE/src/colab.ipynb#ch0000000?line=7'>8</a>\u001b[0m \u001b[39m# - port: the port you want to run code-server on, default 10000\u001b[39;00m\n\u001b[1;32m      <a href='vscode-notebook-cell:/Users/youri/Desktop/APE/src/colab.ipynb#ch0000000?line=8'>9</a>\u001b[0m \u001b[39m# - password: password to protect your code server from being accessed by someone else. Note that there is no password by default!\u001b[39;00m\n\u001b[1;32m     <a href='vscode-notebook-cell:/Users/youri/Desktop/APE/src/colab.ipynb#ch0000000?line=9'>10</a>\u001b[0m \u001b[39m# - mount_drive: True or False to mount your Google Drive\u001b[39;00m\n\u001b[1;32m     <a href='vscode-notebook-cell:/Users/youri/Desktop/APE/src/colab.ipynb#ch0000000?line=11'>12</a>\u001b[0m get_ipython()\u001b[39m.\u001b[39msystem(\u001b[39m'\u001b[39m\u001b[39mColabCode(port=10000, password=\u001b[39m\u001b[39m\"\u001b[39m\u001b[39mabhishek\u001b[39m\u001b[39m\"\u001b[39m\u001b[39m, mount_drive=True)\u001b[39m\u001b[39m'\u001b[39m)\n",
      "File \u001b[0;32m~/Desktop/APE/.venv/lib/python3.8/site-packages/colabcode/code.py:42\u001b[0m, in \u001b[0;36mColabCode.__init__\u001b[0;34m(self, port, password, authtoken, mount_drive, code, lab)\u001b[0m\n\u001b[1;32m     <a href='file:///Users/youri/Desktop/APE/.venv/lib/python3.8/site-packages/colabcode/code.py?line=39'>40</a>\u001b[0m     \u001b[39mself\u001b[39m\u001b[39m.\u001b[39m_run_lab()\n\u001b[1;32m     <a href='file:///Users/youri/Desktop/APE/.venv/lib/python3.8/site-packages/colabcode/code.py?line=40'>41</a>\u001b[0m \u001b[39mif\u001b[39;00m \u001b[39mself\u001b[39m\u001b[39m.\u001b[39m_code:\n\u001b[0;32m---> <a href='file:///Users/youri/Desktop/APE/.venv/lib/python3.8/site-packages/colabcode/code.py?line=41'>42</a>\u001b[0m     \u001b[39mself\u001b[39;49m\u001b[39m.\u001b[39;49m_install_code()\n\u001b[1;32m     <a href='file:///Users/youri/Desktop/APE/.venv/lib/python3.8/site-packages/colabcode/code.py?line=42'>43</a>\u001b[0m     \u001b[39mself\u001b[39m\u001b[39m.\u001b[39m_install_extensions()\n\u001b[1;32m     <a href='file:///Users/youri/Desktop/APE/.venv/lib/python3.8/site-packages/colabcode/code.py?line=43'>44</a>\u001b[0m     \u001b[39mself\u001b[39m\u001b[39m.\u001b[39m_start_server()\n",
      "File \u001b[0;32m~/Desktop/APE/.venv/lib/python3.8/site-packages/colabcode/code.py:49\u001b[0m, in \u001b[0;36mColabCode._install_code\u001b[0;34m()\u001b[0m\n\u001b[1;32m     <a href='file:///Users/youri/Desktop/APE/.venv/lib/python3.8/site-packages/colabcode/code.py?line=46'>47</a>\u001b[0m \u001b[39m@staticmethod\u001b[39m\n\u001b[1;32m     <a href='file:///Users/youri/Desktop/APE/.venv/lib/python3.8/site-packages/colabcode/code.py?line=47'>48</a>\u001b[0m \u001b[39mdef\u001b[39;00m \u001b[39m_install_code\u001b[39m():\n\u001b[0;32m---> <a href='file:///Users/youri/Desktop/APE/.venv/lib/python3.8/site-packages/colabcode/code.py?line=48'>49</a>\u001b[0m     subprocess\u001b[39m.\u001b[39;49mrun([\u001b[39m\"\u001b[39;49m\u001b[39mwget\u001b[39;49m\u001b[39m\"\u001b[39;49m, \u001b[39m\"\u001b[39;49m\u001b[39mhttps://code-server.dev/install.sh\u001b[39;49m\u001b[39m\"\u001b[39;49m], stdout\u001b[39m=\u001b[39;49msubprocess\u001b[39m.\u001b[39;49mPIPE)\n\u001b[1;32m     <a href='file:///Users/youri/Desktop/APE/.venv/lib/python3.8/site-packages/colabcode/code.py?line=49'>50</a>\u001b[0m     subprocess\u001b[39m.\u001b[39mrun(\n\u001b[1;32m     <a href='file:///Users/youri/Desktop/APE/.venv/lib/python3.8/site-packages/colabcode/code.py?line=50'>51</a>\u001b[0m         [\u001b[39m\"\u001b[39m\u001b[39msh\u001b[39m\u001b[39m\"\u001b[39m, \u001b[39m\"\u001b[39m\u001b[39minstall.sh\u001b[39m\u001b[39m\"\u001b[39m, \u001b[39m\"\u001b[39m\u001b[39m--version\u001b[39m\u001b[39m\"\u001b[39m, \u001b[39mf\u001b[39m\u001b[39m\"\u001b[39m\u001b[39m{\u001b[39;00mCODESERVER_VERSION\u001b[39m}\u001b[39;00m\u001b[39m\"\u001b[39m],\n\u001b[1;32m     <a href='file:///Users/youri/Desktop/APE/.venv/lib/python3.8/site-packages/colabcode/code.py?line=51'>52</a>\u001b[0m         stdout\u001b[39m=\u001b[39msubprocess\u001b[39m.\u001b[39mPIPE,\n\u001b[1;32m     <a href='file:///Users/youri/Desktop/APE/.venv/lib/python3.8/site-packages/colabcode/code.py?line=52'>53</a>\u001b[0m     )\n",
      "File \u001b[0;32m~/opt/miniconda3/lib/python3.8/subprocess.py:489\u001b[0m, in \u001b[0;36mrun\u001b[0;34m(input, capture_output, timeout, check, *popenargs, **kwargs)\u001b[0m\n\u001b[1;32m    <a href='file:///Users/youri/opt/miniconda3/lib/python3.8/subprocess.py?line=485'>486</a>\u001b[0m     kwargs[\u001b[39m'\u001b[39m\u001b[39mstdout\u001b[39m\u001b[39m'\u001b[39m] \u001b[39m=\u001b[39m PIPE\n\u001b[1;32m    <a href='file:///Users/youri/opt/miniconda3/lib/python3.8/subprocess.py?line=486'>487</a>\u001b[0m     kwargs[\u001b[39m'\u001b[39m\u001b[39mstderr\u001b[39m\u001b[39m'\u001b[39m] \u001b[39m=\u001b[39m PIPE\n\u001b[0;32m--> <a href='file:///Users/youri/opt/miniconda3/lib/python3.8/subprocess.py?line=488'>489</a>\u001b[0m \u001b[39mwith\u001b[39;00m Popen(\u001b[39m*\u001b[39;49mpopenargs, \u001b[39m*\u001b[39;49m\u001b[39m*\u001b[39;49mkwargs) \u001b[39mas\u001b[39;00m process:\n\u001b[1;32m    <a href='file:///Users/youri/opt/miniconda3/lib/python3.8/subprocess.py?line=489'>490</a>\u001b[0m     \u001b[39mtry\u001b[39;00m:\n\u001b[1;32m    <a href='file:///Users/youri/opt/miniconda3/lib/python3.8/subprocess.py?line=490'>491</a>\u001b[0m         stdout, stderr \u001b[39m=\u001b[39m process\u001b[39m.\u001b[39mcommunicate(\u001b[39minput\u001b[39m, timeout\u001b[39m=\u001b[39mtimeout)\n",
      "File \u001b[0;32m~/opt/miniconda3/lib/python3.8/subprocess.py:854\u001b[0m, in \u001b[0;36mPopen.__init__\u001b[0;34m(self, args, bufsize, executable, stdin, stdout, stderr, preexec_fn, close_fds, shell, cwd, env, universal_newlines, startupinfo, creationflags, restore_signals, start_new_session, pass_fds, encoding, errors, text)\u001b[0m\n\u001b[1;32m    <a href='file:///Users/youri/opt/miniconda3/lib/python3.8/subprocess.py?line=849'>850</a>\u001b[0m         \u001b[39mif\u001b[39;00m \u001b[39mself\u001b[39m\u001b[39m.\u001b[39mtext_mode:\n\u001b[1;32m    <a href='file:///Users/youri/opt/miniconda3/lib/python3.8/subprocess.py?line=850'>851</a>\u001b[0m             \u001b[39mself\u001b[39m\u001b[39m.\u001b[39mstderr \u001b[39m=\u001b[39m io\u001b[39m.\u001b[39mTextIOWrapper(\u001b[39mself\u001b[39m\u001b[39m.\u001b[39mstderr,\n\u001b[1;32m    <a href='file:///Users/youri/opt/miniconda3/lib/python3.8/subprocess.py?line=851'>852</a>\u001b[0m                     encoding\u001b[39m=\u001b[39mencoding, errors\u001b[39m=\u001b[39merrors)\n\u001b[0;32m--> <a href='file:///Users/youri/opt/miniconda3/lib/python3.8/subprocess.py?line=853'>854</a>\u001b[0m     \u001b[39mself\u001b[39;49m\u001b[39m.\u001b[39;49m_execute_child(args, executable, preexec_fn, close_fds,\n\u001b[1;32m    <a href='file:///Users/youri/opt/miniconda3/lib/python3.8/subprocess.py?line=854'>855</a>\u001b[0m                         pass_fds, cwd, env,\n\u001b[1;32m    <a href='file:///Users/youri/opt/miniconda3/lib/python3.8/subprocess.py?line=855'>856</a>\u001b[0m                         startupinfo, creationflags, shell,\n\u001b[1;32m    <a href='file:///Users/youri/opt/miniconda3/lib/python3.8/subprocess.py?line=856'>857</a>\u001b[0m                         p2cread, p2cwrite,\n\u001b[1;32m    <a href='file:///Users/youri/opt/miniconda3/lib/python3.8/subprocess.py?line=857'>858</a>\u001b[0m                         c2pread, c2pwrite,\n\u001b[1;32m    <a href='file:///Users/youri/opt/miniconda3/lib/python3.8/subprocess.py?line=858'>859</a>\u001b[0m                         errread, errwrite,\n\u001b[1;32m    <a href='file:///Users/youri/opt/miniconda3/lib/python3.8/subprocess.py?line=859'>860</a>\u001b[0m                         restore_signals, start_new_session)\n\u001b[1;32m    <a href='file:///Users/youri/opt/miniconda3/lib/python3.8/subprocess.py?line=860'>861</a>\u001b[0m \u001b[39mexcept\u001b[39;00m:\n\u001b[1;32m    <a href='file:///Users/youri/opt/miniconda3/lib/python3.8/subprocess.py?line=861'>862</a>\u001b[0m     \u001b[39m# Cleanup if the child failed starting.\u001b[39;00m\n\u001b[1;32m    <a href='file:///Users/youri/opt/miniconda3/lib/python3.8/subprocess.py?line=862'>863</a>\u001b[0m     \u001b[39mfor\u001b[39;00m f \u001b[39min\u001b[39;00m \u001b[39mfilter\u001b[39m(\u001b[39mNone\u001b[39;00m, (\u001b[39mself\u001b[39m\u001b[39m.\u001b[39mstdin, \u001b[39mself\u001b[39m\u001b[39m.\u001b[39mstdout, \u001b[39mself\u001b[39m\u001b[39m.\u001b[39mstderr)):\n",
      "File \u001b[0;32m~/opt/miniconda3/lib/python3.8/subprocess.py:1702\u001b[0m, in \u001b[0;36mPopen._execute_child\u001b[0;34m(self, args, executable, preexec_fn, close_fds, pass_fds, cwd, env, startupinfo, creationflags, shell, p2cread, p2cwrite, c2pread, c2pwrite, errread, errwrite, restore_signals, start_new_session)\u001b[0m\n\u001b[1;32m   <a href='file:///Users/youri/opt/miniconda3/lib/python3.8/subprocess.py?line=1699'>1700</a>\u001b[0m     \u001b[39mif\u001b[39;00m errno_num \u001b[39m!=\u001b[39m \u001b[39m0\u001b[39m:\n\u001b[1;32m   <a href='file:///Users/youri/opt/miniconda3/lib/python3.8/subprocess.py?line=1700'>1701</a>\u001b[0m         err_msg \u001b[39m=\u001b[39m os\u001b[39m.\u001b[39mstrerror(errno_num)\n\u001b[0;32m-> <a href='file:///Users/youri/opt/miniconda3/lib/python3.8/subprocess.py?line=1701'>1702</a>\u001b[0m     \u001b[39mraise\u001b[39;00m child_exception_type(errno_num, err_msg, err_filename)\n\u001b[1;32m   <a href='file:///Users/youri/opt/miniconda3/lib/python3.8/subprocess.py?line=1702'>1703</a>\u001b[0m \u001b[39mraise\u001b[39;00m child_exception_type(err_msg)\n",
      "\u001b[0;31mFileNotFoundError\u001b[0m: [Errno 2] No such file or directory: 'wget'"
     ]
    }
   ],
   "source": [
    "# import colabcode\n",
    "from colabcode import ColabCode\n",
    "\n",
    "# run colabcode with by deafult options.\n",
    "ColabCode()\n",
    "\n",
    "# ColabCode has the following arguments:\n",
    "# - port: the port you want to run code-server on, default 10000\n",
    "# - password: password to protect your code server from being accessed by someone else. Note that there is no password by default!\n",
    "# - mount_drive: True or False to mount your Google Drive\n",
    "\n",
    "!ColabCode(port=10000, password=\"abhishek\", mount_drive=True)"
   ]
  }
 ],
 "metadata": {
  "interpreter": {
   "hash": "8e623f4213093788e6ae40f9811ed24e75fe148dfd5d990a02500a2458e7022d"
  },
  "kernelspec": {
   "display_name": "Python 3.8.5 ('.venv': venv)",
   "language": "python",
   "name": "python3"
  },
  "language_info": {
   "codemirror_mode": {
    "name": "ipython",
    "version": 3
   },
   "file_extension": ".py",
   "mimetype": "text/x-python",
   "name": "python",
   "nbconvert_exporter": "python",
   "pygments_lexer": "ipython3",
   "version": "3.8.5"
  },
  "orig_nbformat": 4
 },
 "nbformat": 4,
 "nbformat_minor": 2
}
